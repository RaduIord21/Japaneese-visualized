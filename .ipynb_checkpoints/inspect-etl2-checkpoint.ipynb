{
 "cells": [
  {
   "cell_type": "markdown",
   "metadata": {},
   "source": [
    "# Inspect the `ETL2` dataset\n",
    "\n",
    "## Prerequisite\n",
    "\n",
    "Get and unzip the `ETL2` dataset as show below.\n",
    "\n",
    "```\n",
    "ETL2\n",
    "├── ETL2INFO\n",
    "├── ETL2_1\n",
    "├── ETL2_2\n",
    "├── ETL2_3\n",
    "├── ETL2_4\n",
    "└── ETL2_5\n",
    "```"
   ]
  },
  {
   "cell_type": "code",
   "execution_count": 9,
   "metadata": {
    "ExecuteTime": {
     "end_time": "2024-10-03T13:38:48.602915Z",
     "start_time": "2024-10-03T13:38:48.593948Z"
    },
    "scrolled": true
   },
   "outputs": [],
   "source": [
    "import os\n",
    "import io\n",
    "import json\n",
    "\n",
    "# external dependencies\n",
    "import bitstring\n",
    "\n",
    "from tqdm import tqdm\n",
    "import numpy as np\n",
    "import matplotlib.pyplot as plt\n",
    "import cv2\n",
    "\n",
    "from PIL import Image\n",
    "import IPython.display as display\n",
    "\n",
    "# local modules\n",
    "import shared\n",
    "from shared import T56"
   ]
  },
  {
   "cell_type": "code",
   "execution_count": 10,
   "metadata": {
    "ExecuteTime": {
     "end_time": "2024-10-03T13:38:48.938780Z",
     "start_time": "2024-10-03T13:38:48.935432Z"
    }
   },
   "outputs": [],
   "source": [
    "part_filepaths = [    \n",
    "    'ETL2/ETL2_1',\n",
    "    'ETL2/ETL2_2',\n",
    "    'ETL2/ETL2_3',\n",
    "    'ETL2/ETL2_4',\n",
    "    'ETL2/ETL2_5',\n",
    "]\n",
    "\n",
    "# the code below is for Restart and Run All people (include me)\n",
    "for part_filepath in part_filepaths:\n",
    "    if not os.path.exists(part_filepath):\n",
    "        raise Exception(part_filepath, 'does not exist!')"
   ]
  },
  {
   "cell_type": "markdown",
   "metadata": {},
   "source": [
    "# Take a look a sample file"
   ]
  },
  {
   "cell_type": "code",
   "execution_count": 11,
   "metadata": {
    "ExecuteTime": {
     "end_time": "2024-10-03T13:38:50.103354Z",
     "start_time": "2024-10-03T13:38:50.098820Z"
    }
   },
   "outputs": [
    {
     "name": "stdout",
     "output_type": "stream",
     "text": [
      "ETL2/ETL2_1\n"
     ]
    }
   ],
   "source": [
    "sample_filepath = part_filepaths[0]\n",
    "print(sample_filepath)"
   ]
  },
  {
   "cell_type": "markdown",
   "metadata": {},
   "source": [
    "Unpack the record as shown in the specification.\n",
    "\n",
    "http://etlcdb.db.aist.go.jp/specification-of-etl-2"
   ]
  },
  {
   "cell_type": "code",
   "execution_count": 12,
   "metadata": {
    "ExecuteTime": {
     "end_time": "2024-10-03T13:38:50.990822Z",
     "start_time": "2024-10-03T13:38:50.986147Z"
    }
   },
   "outputs": [],
   "source": [
    "IMG_WIDTH = 60\n",
    "IMG_HEIGHT = 60\n",
    "\n",
    "bitstring_unpack_str = ','.join([\n",
    "    'int:36', # Serial Index - [0]\n",
    "    'uint:6', # Source ('A': Mincho Newspaper, 'B': Gothic Newspaper, 'C': Mincho Patent, 'D': Gothic Patent) - [1]\n",
    "    'pad:30', # padding bits - no index as they are skipped\n",
    "    '6*uint:6', # Class ('KANJI': kanji, 'EIJI': roman alphabets, 'HRKANA': hiragana, 'KTKANA': katakana, 'KIGO': special characters, 'SUUJI': numbers) - [2:8]\n",
    "    '6*uint:6', # Font ('MINCHO', 'GOTHIC') - [8:14]\n",
    "    'pad:24', # padding bits\n",
    "    '2*uint:6', # CO-59 Code - [14:16]\n",
    "    'pad:180', # padding bits\n",
    "    'bytes:2700', # 6-bit-depth image of 60 x 60 = 3600 pixels - [16]\n",
    "])"
   ]
  },
  {
   "cell_type": "code",
   "execution_count": 13,
   "metadata": {
    "ExecuteTime": {
     "end_time": "2024-10-03T13:38:51.725639Z",
     "start_time": "2024-10-03T13:38:51.721825Z"
    }
   },
   "outputs": [
    {
     "name": "stdout",
     "output_type": "stream",
     "text": [
      "<class 'list'> 17\n",
      "[1, 17, 34, 17, 37, 33, 25, 16, 36, 25, 37, 19, 24, 38, 4, 4]\n"
     ]
    }
   ],
   "source": [
    "infile = bitstring.ConstBitStream(filename=sample_filepath)\n",
    "unpacked_data = infile.readlist(bitstring_unpack_str)\n",
    "\n",
    "print(type(unpacked_data), len(unpacked_data))\n",
    "print(unpacked_data[:-1])"
   ]
  },
  {
   "cell_type": "code",
   "execution_count": 14,
   "metadata": {
    "ExecuteTime": {
     "end_time": "2024-10-03T13:38:52.329437Z",
     "start_time": "2024-10-03T13:38:52.325853Z"
    },
    "scrolled": true
   },
   "outputs": [
    {
     "name": "stdout",
     "output_type": "stream",
     "text": [
      "1 A KANJI  MINCHO 上\n"
     ]
    }
   ],
   "source": [
    "print(\n",
    "    unpacked_data[0],\n",
    "    shared.T56(unpacked_data[1]),\n",
    "    ''.join(map(shared.T56, unpacked_data[2:8])),\n",
    "    ''.join(map(shared.T56, unpacked_data[8:14])),\n",
    "    shared.CO59[tuple(unpacked_data[14:16])],\n",
    ")"
   ]
  },
  {
   "cell_type": "code",
   "execution_count": 15,
   "metadata": {
    "ExecuteTime": {
     "end_time": "2024-10-03T13:38:53.162484Z",
     "start_time": "2024-10-03T13:38:53.158615Z"
    }
   },
   "outputs": [],
   "source": [
    "class ETL2Record:\n",
    "    def __init__(\n",
    "        self,\n",
    "        index: int, # the Serial Index in the record\n",
    "        source: str, # the source material that the record has been scanned from\n",
    "        character_type: str, # enum type: 'KANJI', 'EIJI', 'HRKANA', 'KTKANA', 'KIGO', 'SUUJI'\n",
    "        font: str, # e.g. \"('MINCHO', 'GOTHIC')\"\n",
    "        unicode_char: str, # e.g. あ\n",
    "        image: bytes, # PNG encoded image\n",
    "    ):\n",
    "        self.index = index\n",
    "        self.source = source\n",
    "        self.character_type = character_type\n",
    "        self.font = font\n",
    "        self.unicode_char = unicode_char\n",
    "        self.image = image\n",
    "\n",
    "    def __repr__(self):\n",
    "        return repr(self.__dict__)"
   ]
  },
  {
   "cell_type": "markdown",
   "metadata": {},
   "source": [
    "# All the images are 6-bit depth 60x60 pixels images"
   ]
  },
  {
   "cell_type": "code",
   "execution_count": 17,
   "metadata": {
    "ExecuteTime": {
     "end_time": "2024-10-03T13:38:55.140088Z",
     "start_time": "2024-10-03T13:38:55.119951Z"
    }
   },
   "outputs": [
    {
     "data": {
      "text/plain": [
       "<matplotlib.colorbar.Colorbar at 0x1eebb474980>"
      ]
     },
     "execution_count": 17,
     "metadata": {},
     "output_type": "execute_result"
    },
    {
     "data": {
      "image/png": "[encoded data removed]",
      "text/plain": [
       "<Figure size 640x480 with 2 Axes>"
      ]
     },
     "metadata": {},
     "output_type": "display_data"
    }
   ],
   "source": [
    "record = unpacked_data\n",
    "pil_image = Image.frombytes('F', (IMG_WIDTH, IMG_HEIGHT), record[16], 'bit', 6)\n",
    "\n",
    "np_img = np.array(pil_image)\n",
    "\n",
    "plt.imshow(np_img)\n",
    "plt.colorbar()"
   ]
  },
  {
   "cell_type": "markdown",
   "metadata": {},
   "source": [
    "# Convert image to grayscale `[0-255]` range"
   ]
  },
  {
   "cell_type": "code",
   "execution_count": 27,
   "metadata": {
    "ExecuteTime": {
     "end_time": "2024-10-03T13:38:56.119759Z",
     "start_time": "2024-10-03T13:38:56.107061Z"
    }
   },
   "outputs": [
    {
     "data": {
      "text/plain": [
       "<matplotlib.colorbar.Colorbar at 0x1eeb9fdbcb0>"
      ]
     },
     "execution_count": 27,
     "metadata": {},
     "output_type": "execute_result"
    },
    {
     "data": {
      "image/png": "[encoded data removed]",
      "text/plain": [
       "<Figure size 640x480 with 2 Axes>"
      ]
     },
     "metadata": {},
     "output_type": "display_data"
    }
   ],
   "source": [
    "pil_image = pil_image.convert('L')\n",
    "np_img = np.array(pil_image)\n",
    "\n",
    "plt.imshow(np_img)\n",
    "plt.colorbar()"
   ]
  },
  {
   "cell_type": "code",
   "execution_count": 28,
   "metadata": {
    "ExecuteTime": {
     "end_time": "2024-10-03T13:38:57.231365Z",
     "start_time": "2024-10-03T13:38:57.219033Z"
    }
   },
   "outputs": [],
   "source": [
    "buffer = io.BytesIO()\n",
    "pil_image.save(buffer, format='PNG')\n",
    "png_encoded_image = buffer.getvalue()"
   ]
  },
  {
   "cell_type": "code",
   "execution_count": 29,
   "metadata": {
    "ExecuteTime": {
     "end_time": "2024-10-03T13:38:58.379362Z",
     "start_time": "2024-10-03T13:38:58.368743Z"
    }
   },
   "outputs": [
    {
     "ename": "NameError",
     "evalue": "name 'record' is not defined",
     "output_type": "error",
     "traceback": [
      "\u001b[1;31m---------------------------------------------------------------------------\u001b[0m",
      "\u001b[1;31mNameError\u001b[0m                                 Traceback (most recent call last)",
      "Cell \u001b[1;32mIn[29], line 1\u001b[0m\n\u001b[1;32m----> 1\u001b[0m pil_image \u001b[38;5;241m=\u001b[39m Image\u001b[38;5;241m.\u001b[39mfrombytes(\u001b[38;5;124m'\u001b[39m\u001b[38;5;124mF\u001b[39m\u001b[38;5;124m'\u001b[39m, (IMG_WIDTH, IMG_HEIGHT), \u001b[43mrecord\u001b[49m[\u001b[38;5;241m16\u001b[39m], \u001b[38;5;124m'\u001b[39m\u001b[38;5;124mbit\u001b[39m\u001b[38;5;124m'\u001b[39m, \u001b[38;5;241m6\u001b[39m)\n\u001b[0;32m      2\u001b[0m pil_image \u001b[38;5;241m=\u001b[39m pil_image\u001b[38;5;241m.\u001b[39mconvert(\u001b[38;5;124m'\u001b[39m\u001b[38;5;124mL\u001b[39m\u001b[38;5;124m'\u001b[39m)\n\u001b[0;32m      4\u001b[0m buffer \u001b[38;5;241m=\u001b[39m io\u001b[38;5;241m.\u001b[39mBytesIO()\n",
      "\u001b[1;31mNameError\u001b[0m: name 'record' is not defined"
     ]
    }
   ],
   "source": [
    "pil_image = Image.frombytes('F', (IMG_WIDTH, IMG_HEIGHT), record[16], 'bit', 6)\n",
    "pil_image = pil_image.convert('L')\n",
    "\n",
    "buffer = io.BytesIO()\n",
    "pil_image.save(buffer, format='PNG')\n",
    "png_encoded_image = buffer.getvalue()\n",
    "\n",
    "etl2_record = ETL2Record(\n",
    "    index=record[0],\n",
    "    source=shared.T56(record[1]),\n",
    "    character_type=''.join(map(shared.T56, record[2:8])),\n",
    "    font=''.join(map(shared.T56, record[8:14])),\n",
    "    unicode_char=shared.CO59[tuple(record[14:16])],\n",
    "    image=png_encoded_image,\n",
    ")\n",
    "\n",
    "etl2_record"
   ]
  },
  {
   "cell_type": "markdown",
   "metadata": {},
   "source": [
    "# That's all for inspecting a single record in the dataset."
   ]
  },
  {
   "cell_type": "markdown",
   "metadata": {},
   "source": [
    "`XFormat` is my custom data serialization format. I created this format because I don't want to use `JSON` or `TFRecord` (`protobuf`) for various limitations."
   ]
  },
  {
   "cell_type": "code",
   "execution_count": 24,
   "metadata": {},
   "outputs": [
    {
     "ename": "Exception",
     "evalue": "etl2.xformat is already existed!",
     "output_type": "error",
     "traceback": [
      "\u001b[1;31m---------------------------------------------------------------------------\u001b[0m",
      "\u001b[1;31mException\u001b[0m                                 Traceback (most recent call last)",
      "Cell \u001b[1;32mIn[24], line 5\u001b[0m\n\u001b[0;32m      2\u001b[0m etl2_serialized_dataset_filepath \u001b[38;5;241m=\u001b[39m \u001b[38;5;124mf\u001b[39m\u001b[38;5;124m'\u001b[39m\u001b[38;5;124metl2\u001b[39m\u001b[38;5;132;01m{\u001b[39;00mshared\u001b[38;5;241m.\u001b[39mXFormat\u001b[38;5;241m.\u001b[39mEXTENSION\u001b[38;5;132;01m}\u001b[39;00m\u001b[38;5;124m'\u001b[39m\n\u001b[0;32m      4\u001b[0m \u001b[38;5;28;01mif\u001b[39;00m os\u001b[38;5;241m.\u001b[39mpath\u001b[38;5;241m.\u001b[39mexists(etl2_serialized_dataset_filepath):\n\u001b[1;32m----> 5\u001b[0m     \u001b[38;5;28;01mraise\u001b[39;00m \u001b[38;5;167;01mException\u001b[39;00m(etl2_serialized_dataset_filepath \u001b[38;5;241m+\u001b[39m \u001b[38;5;124m'\u001b[39m\u001b[38;5;124m is already existed!\u001b[39m\u001b[38;5;124m'\u001b[39m)\n\u001b[0;32m      7\u001b[0m \u001b[38;5;28;01mwith\u001b[39;00m \u001b[38;5;28mopen\u001b[39m(etl2_serialized_dataset_filepath, mode\u001b[38;5;241m=\u001b[39m\u001b[38;5;124m'\u001b[39m\u001b[38;5;124mwb\u001b[39m\u001b[38;5;124m'\u001b[39m) \u001b[38;5;28;01mas\u001b[39;00m out_stream:\n\u001b[0;32m      8\u001b[0m     pbar \u001b[38;5;241m=\u001b[39m tqdm(part_filepaths)\n",
      "\u001b[1;31mException\u001b[0m: etl2.xformat is already existed!"
     ]
    }
   ],
   "source": [
    "records_metadata = []\n",
    "etl2_serialized_dataset_filepath = f'etl2{shared.XFormat.EXTENSION}'\n",
    "\n",
    "if os.path.exists(etl2_serialized_dataset_filepath):\n",
    "    raise Exception(etl2_serialized_dataset_filepath + ' is already existed!')\n",
    "\n",
    "with open(etl2_serialized_dataset_filepath, mode='wb') as out_stream:\n",
    "    pbar = tqdm(part_filepaths)\n",
    "    for filename in pbar:\n",
    "\n",
    "        infile = bitstring.ConstBitStream(filename=filename)\n",
    "\n",
    "        while True:\n",
    "            try:\n",
    "                unpacked_data = infile.readlist(bitstring_unpack_str)\n",
    "            except:\n",
    "                # TODO properly check for end of file\n",
    "                # print(unpacked_data)\n",
    "                # traceback.print_exc()\n",
    "                break\n",
    "\n",
    "            pil_image = Image.frombytes('F', (IMG_WIDTH, IMG_HEIGHT), unpacked_data[16], 'bit', 6)\n",
    "            pil_image = pil_image.convert('L')\n",
    "\n",
    "            buffer = io.BytesIO()\n",
    "            pil_image.save(buffer, format='PNG')\n",
    "            png_encoded_image = buffer.getvalue()\n",
    "\n",
    "            etl2_record = ETL2Record(\n",
    "                index=unpacked_data[0],\n",
    "                source=shared.T56(unpacked_data[1]),\n",
    "                character_type=''.join(map(shared.T56, unpacked_data[2:8])),\n",
    "                font=''.join(map(shared.T56, unpacked_data[8:14])),\n",
    "                unicode_char=shared.CO59[tuple(unpacked_data[14:16])],\n",
    "                image=png_encoded_image,\n",
    "            )\n",
    "\n",
    "            record_datatype, serialized_record = shared.XFormat.serialize_obj(etl2_record.__dict__)\n",
    "            record_byte_count = len(serialized_record)\n",
    "            record_seek_start = out_stream.tell()\n",
    "\n",
    "            out_stream.write(record_datatype)\n",
    "            out_stream.write(shared.XFormat.serialize_int(record_byte_count))\n",
    "            out_stream.write(serialized_record)\n",
    "\n",
    "            record_seek_end = out_stream.tell()\n",
    "            \n",
    "            record_metadata = {\n",
    "                'index': etl2_record.index,\n",
    "                'source': etl2_record.source,\n",
    "                'character_type': etl2_record.character_type,\n",
    "                'font': etl2_record.font,\n",
    "                'unicode_char': etl2_record.unicode_char,\n",
    "                'seek_start': record_seek_start,\n",
    "                'seek_end': record_seek_end,\n",
    "            }\n",
    "            \n",
    "            records_metadata.append(record_metadata)\n",
    "            \n",
    "            pbar.set_description(f'{filename} - {etl2_record.index}')"
   ]
  },
  {
   "cell_type": "code",
   "execution_count": 25,
   "metadata": {},
   "outputs": [],
   "source": [
    "metadata_filepath = 'etl2-metadata.json'\n",
    "if os.path.exists(metadata_filepath):\n",
    "    raise Exception(metadata_filepath + 'is already existed!')\n",
    "\n",
    "with open(metadata_filepath, mode='w', encoding='utf-8') as out_stream:\n",
    "    json.dump(records_metadata, out_stream, ensure_ascii=False, indent='\\t')"
   ]
  }
 ],
 "metadata": {
  "kernelspec": {
   "display_name": "Python 3 (ipykernel)",
   "language": "python",
   "name": "python3"
  },
  "language_info": {
   "codemirror_mode": {
    "name": "ipython",
    "version": 3
   },
   "file_extension": ".py",
   "mimetype": "text/x-python",
   "name": "python",
   "nbconvert_exporter": "python",
   "pygments_lexer": "ipython3",
   "version": "3.12.2"
  }
 },
 "nbformat": 4,
 "nbformat_minor": 4
}
